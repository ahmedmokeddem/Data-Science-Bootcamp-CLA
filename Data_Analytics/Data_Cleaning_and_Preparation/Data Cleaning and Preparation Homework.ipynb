{
 "cells": [
  {
   "cell_type": "code",
   "execution_count": 207,
   "metadata": {},
   "outputs": [],
   "source": [
    "import pandas as pd"
   ]
  },
  {
   "cell_type": "code",
   "execution_count": 208,
   "metadata": {},
   "outputs": [
    {
     "data": {
      "text/html": [
       "<div>\n",
       "<style scoped>\n",
       "    .dataframe tbody tr th:only-of-type {\n",
       "        vertical-align: middle;\n",
       "    }\n",
       "\n",
       "    .dataframe tbody tr th {\n",
       "        vertical-align: top;\n",
       "    }\n",
       "\n",
       "    .dataframe thead th {\n",
       "        text-align: right;\n",
       "    }\n",
       "</style>\n",
       "<table border=\"1\" class=\"dataframe\">\n",
       "  <thead>\n",
       "    <tr style=\"text-align: right;\">\n",
       "      <th></th>\n",
       "      <th>video_id</th>\n",
       "      <th>trending_date</th>\n",
       "      <th>title</th>\n",
       "      <th>channel_title</th>\n",
       "      <th>category_id</th>\n",
       "      <th>publish_time</th>\n",
       "      <th>tags</th>\n",
       "      <th>views</th>\n",
       "      <th>likes</th>\n",
       "      <th>dislikes</th>\n",
       "      <th>comment_count</th>\n",
       "      <th>thumbnail_link</th>\n",
       "      <th>comments_disabled</th>\n",
       "      <th>ratings_disabled</th>\n",
       "      <th>video_error_or_removed</th>\n",
       "      <th>description</th>\n",
       "    </tr>\n",
       "  </thead>\n",
       "  <tbody>\n",
       "    <tr>\n",
       "      <th>0</th>\n",
       "      <td>2kyS6SvSYSE</td>\n",
       "      <td>17.14.11</td>\n",
       "      <td>WE WANT TO TALK ABOUT OUR MARRIAGE</td>\n",
       "      <td>CaseyNeistat</td>\n",
       "      <td>22.0</td>\n",
       "      <td>2017-11-13T17:13:01.000Z</td>\n",
       "      <td>SHANtell martin</td>\n",
       "      <td>748374.0</td>\n",
       "      <td>57527.0</td>\n",
       "      <td>2966.0</td>\n",
       "      <td>15954.0</td>\n",
       "      <td>https://i.ytimg.com/vi/2kyS6SvSYSE/default.jpg</td>\n",
       "      <td>False</td>\n",
       "      <td>False</td>\n",
       "      <td>False</td>\n",
       "      <td>SHANTELL'S CHANNEL - https://www.youtube.com/s...</td>\n",
       "    </tr>\n",
       "    <tr>\n",
       "      <th>1</th>\n",
       "      <td>1ZAPwfrtAFY</td>\n",
       "      <td>17.14.11</td>\n",
       "      <td>The Trump Presidency: Last Week Tonight with J...</td>\n",
       "      <td>LastWeekTonight</td>\n",
       "      <td>24.0</td>\n",
       "      <td>2017-11-13T07:30:00.000Z</td>\n",
       "      <td>last week tonight trump presidency|\"last week ...</td>\n",
       "      <td>2418783.0</td>\n",
       "      <td>97185.0</td>\n",
       "      <td>6146.0</td>\n",
       "      <td>12703.0</td>\n",
       "      <td>https://i.ytimg.com/vi/1ZAPwfrtAFY/default.jpg</td>\n",
       "      <td>False</td>\n",
       "      <td>False</td>\n",
       "      <td>False</td>\n",
       "      <td>One year after the presidential election, John...</td>\n",
       "    </tr>\n",
       "    <tr>\n",
       "      <th>2</th>\n",
       "      <td>5qpjK5DgCt4</td>\n",
       "      <td>17.14.11</td>\n",
       "      <td>Racist Superman | Rudy Mancuso, King Bach &amp; Le...</td>\n",
       "      <td>Rudy Mancuso</td>\n",
       "      <td>23.0</td>\n",
       "      <td>2017-11-12T19:05:24.000Z</td>\n",
       "      <td>racist superman|\"rudy\"|\"mancuso\"|\"king\"|\"bach\"...</td>\n",
       "      <td>3191434.0</td>\n",
       "      <td>146033.0</td>\n",
       "      <td>5339.0</td>\n",
       "      <td>8181.0</td>\n",
       "      <td>https://i.ytimg.com/vi/5qpjK5DgCt4/default.jpg</td>\n",
       "      <td>False</td>\n",
       "      <td>False</td>\n",
       "      <td>False</td>\n",
       "      <td>WATCH MY PREVIOUS VIDEO ▶ \\n\\nSUBSCRIBE ► http...</td>\n",
       "    </tr>\n",
       "    <tr>\n",
       "      <th>3</th>\n",
       "      <td>puqaWrEC7tY</td>\n",
       "      <td>17.14.11</td>\n",
       "      <td>Nickelback Lyrics: Real or Fake?</td>\n",
       "      <td>Good Mythical Morning</td>\n",
       "      <td>24.0</td>\n",
       "      <td>2017-11-13T11:00:04.000Z</td>\n",
       "      <td>rhett and link|\"gmm\"|\"good mythical morning\"|\"...</td>\n",
       "      <td>343168.0</td>\n",
       "      <td>10172.0</td>\n",
       "      <td>666.0</td>\n",
       "      <td>2146.0</td>\n",
       "      <td>https://i.ytimg.com/vi/puqaWrEC7tY/default.jpg</td>\n",
       "      <td>False</td>\n",
       "      <td>False</td>\n",
       "      <td>False</td>\n",
       "      <td>Today we find out if Link is a Nickelback amat...</td>\n",
       "    </tr>\n",
       "    <tr>\n",
       "      <th>4</th>\n",
       "      <td>d380meD0W0M</td>\n",
       "      <td>17.14.11</td>\n",
       "      <td>I Dare You: GOING BALD!?</td>\n",
       "      <td>nigahiga</td>\n",
       "      <td>24.0</td>\n",
       "      <td>2017-11-12T18:01:41.000Z</td>\n",
       "      <td>ryan|\"higa\"|\"higatv\"|\"nigahiga\"|\"i dare you\"|\"...</td>\n",
       "      <td>2095731.0</td>\n",
       "      <td>132235.0</td>\n",
       "      <td>1989.0</td>\n",
       "      <td>17518.0</td>\n",
       "      <td>https://i.ytimg.com/vi/d380meD0W0M/default.jpg</td>\n",
       "      <td>False</td>\n",
       "      <td>False</td>\n",
       "      <td>False</td>\n",
       "      <td>I know it's been a while since we did this sho...</td>\n",
       "    </tr>\n",
       "  </tbody>\n",
       "</table>\n",
       "</div>"
      ],
      "text/plain": [
       "      video_id trending_date  \\\n",
       "0  2kyS6SvSYSE      17.14.11   \n",
       "1  1ZAPwfrtAFY      17.14.11   \n",
       "2  5qpjK5DgCt4      17.14.11   \n",
       "3  puqaWrEC7tY      17.14.11   \n",
       "4  d380meD0W0M      17.14.11   \n",
       "\n",
       "                                               title          channel_title  \\\n",
       "0                 WE WANT TO TALK ABOUT OUR MARRIAGE           CaseyNeistat   \n",
       "1  The Trump Presidency: Last Week Tonight with J...        LastWeekTonight   \n",
       "2  Racist Superman | Rudy Mancuso, King Bach & Le...           Rudy Mancuso   \n",
       "3                   Nickelback Lyrics: Real or Fake?  Good Mythical Morning   \n",
       "4                           I Dare You: GOING BALD!?               nigahiga   \n",
       "\n",
       "   category_id              publish_time  \\\n",
       "0         22.0  2017-11-13T17:13:01.000Z   \n",
       "1         24.0  2017-11-13T07:30:00.000Z   \n",
       "2         23.0  2017-11-12T19:05:24.000Z   \n",
       "3         24.0  2017-11-13T11:00:04.000Z   \n",
       "4         24.0  2017-11-12T18:01:41.000Z   \n",
       "\n",
       "                                                tags      views     likes  \\\n",
       "0                                    SHANtell martin   748374.0   57527.0   \n",
       "1  last week tonight trump presidency|\"last week ...  2418783.0   97185.0   \n",
       "2  racist superman|\"rudy\"|\"mancuso\"|\"king\"|\"bach\"...  3191434.0  146033.0   \n",
       "3  rhett and link|\"gmm\"|\"good mythical morning\"|\"...   343168.0   10172.0   \n",
       "4  ryan|\"higa\"|\"higatv\"|\"nigahiga\"|\"i dare you\"|\"...  2095731.0  132235.0   \n",
       "\n",
       "   dislikes  comment_count                                  thumbnail_link  \\\n",
       "0    2966.0        15954.0  https://i.ytimg.com/vi/2kyS6SvSYSE/default.jpg   \n",
       "1    6146.0        12703.0  https://i.ytimg.com/vi/1ZAPwfrtAFY/default.jpg   \n",
       "2    5339.0         8181.0  https://i.ytimg.com/vi/5qpjK5DgCt4/default.jpg   \n",
       "3     666.0         2146.0  https://i.ytimg.com/vi/puqaWrEC7tY/default.jpg   \n",
       "4    1989.0        17518.0  https://i.ytimg.com/vi/d380meD0W0M/default.jpg   \n",
       "\n",
       "  comments_disabled ratings_disabled video_error_or_removed  \\\n",
       "0             False            False                  False   \n",
       "1             False            False                  False   \n",
       "2             False            False                  False   \n",
       "3             False            False                  False   \n",
       "4             False            False                  False   \n",
       "\n",
       "                                         description  \n",
       "0  SHANTELL'S CHANNEL - https://www.youtube.com/s...  \n",
       "1  One year after the presidential election, John...  \n",
       "2  WATCH MY PREVIOUS VIDEO ▶ \\n\\nSUBSCRIBE ► http...  \n",
       "3  Today we find out if Link is a Nickelback amat...  \n",
       "4  I know it's been a while since we did this sho...  "
      ]
     },
     "execution_count": 208,
     "metadata": {},
     "output_type": "execute_result"
    }
   ],
   "source": [
    "df= pd.read_csv(\"videosUS.csv\")\n",
    "df.head()"
   ]
  },
  {
   "cell_type": "code",
   "execution_count": 209,
   "metadata": {
    "scrolled": true
   },
   "outputs": [
    {
     "data": {
      "text/plain": [
       "video_id                     0\n",
       "trending_date              466\n",
       "title                      466\n",
       "channel_title              466\n",
       "category_id                466\n",
       "publish_time               466\n",
       "tags                       466\n",
       "views                      466\n",
       "likes                      466\n",
       "dislikes                   466\n",
       "comment_count              466\n",
       "thumbnail_link             466\n",
       "comments_disabled          466\n",
       "ratings_disabled           466\n",
       "video_error_or_removed     466\n",
       "description               1036\n",
       "dtype: int64"
      ]
     },
     "execution_count": 209,
     "metadata": {},
     "output_type": "execute_result"
    }
   ],
   "source": [
    "df.isna().sum()"
   ]
  },
  {
   "cell_type": "code",
   "execution_count": 210,
   "metadata": {},
   "outputs": [],
   "source": [
    "# in each column we have 466 missign values due to the fact that it's not obligatory\n",
    "# for a video before it's published to have all this attributes filled"
   ]
  },
  {
   "cell_type": "code",
   "execution_count": 211,
   "metadata": {},
   "outputs": [
    {
     "data": {
      "text/plain": [
       "0.25     242329.0\n",
       "0.50     681861.0\n",
       "0.75    1823157.0\n",
       "Name: views, dtype: float64"
      ]
     },
     "execution_count": 211,
     "metadata": {},
     "output_type": "execute_result"
    }
   ],
   "source": [
    "df[\"views\"].mean()\n",
    "df[\"views\"].median()\n",
    "df[\"views\"].quantile([0.25,0.50,0.75])"
   ]
  },
  {
   "cell_type": "code",
   "execution_count": 212,
   "metadata": {},
   "outputs": [
    {
     "data": {
      "text/plain": [
       "0.25     5424.0\n",
       "0.50    18091.0\n",
       "0.75    55417.0\n",
       "Name: likes, dtype: float64"
      ]
     },
     "execution_count": 212,
     "metadata": {},
     "output_type": "execute_result"
    }
   ],
   "source": [
    "df[\"likes\"].mean()\n",
    "df[\"likes\"].median()\n",
    "df[\"likes\"].quantile([0.25,0.50,0.75])"
   ]
  },
  {
   "cell_type": "code",
   "execution_count": 213,
   "metadata": {},
   "outputs": [
    {
     "data": {
      "text/plain": [
       "0.25     202.0\n",
       "0.50     631.0\n",
       "0.75    1938.0\n",
       "Name: dislikes, dtype: float64"
      ]
     },
     "execution_count": 213,
     "metadata": {},
     "output_type": "execute_result"
    }
   ],
   "source": [
    "df[\"dislikes\"].mean()\n",
    "df[\"dislikes\"].median()\n",
    "df[\"dislikes\"].quantile([0.25,0.50,0.75])"
   ]
  },
  {
   "cell_type": "code",
   "execution_count": 214,
   "metadata": {},
   "outputs": [
    {
     "data": {
      "text/plain": [
       "0.25     614.0\n",
       "0.50    1856.0\n",
       "0.75    5755.0\n",
       "Name: comment_count, dtype: float64"
      ]
     },
     "execution_count": 214,
     "metadata": {},
     "output_type": "execute_result"
    }
   ],
   "source": [
    "df[\"comment_count\"].mean()\n",
    "df[\"comment_count\"].median()\n",
    "df[\"comment_count\"].quantile([0.25,0.50,0.75])"
   ]
  },
  {
   "cell_type": "code",
   "execution_count": 215,
   "metadata": {},
   "outputs": [],
   "source": [
    "# drop missing values\n",
    "df = df.dropna()"
   ]
  },
  {
   "cell_type": "code",
   "execution_count": 216,
   "metadata": {},
   "outputs": [
    {
     "name": "stdout",
     "output_type": "stream",
     "text": [
      "         video_id trending_date                                        title  \\\n",
      "73    2Vv-BfVoq4g      17.14.11  Ed Sheeran - Perfect (Official Music Video)   \n",
      "342   2Vv-BfVoq4g      17.15.11  Ed Sheeran - Perfect (Official Music Video)   \n",
      "583   2Vv-BfVoq4g      17.16.11  Ed Sheeran - Perfect (Official Music Video)   \n",
      "1010  n1WpP7iowLc      17.18.11   Eminem - Walk On Water (Audio) ft. Beyoncé   \n",
      "1023  TyHvyGVs42U      17.19.11    Luis Fonsi, Demi Lovato - Échame La Culpa   \n",
      "\n",
      "      channel_title  category_id              publish_time  \\\n",
      "73       Ed Sheeran         10.0  2017-11-09T11:04:14.000Z   \n",
      "342      Ed Sheeran         10.0  2017-11-09T11:04:14.000Z   \n",
      "583      Ed Sheeran         10.0  2017-11-09T11:04:14.000Z   \n",
      "1010     EminemVEVO         10.0  2017-11-10T17:00:03.000Z   \n",
      "1023  LuisFonsiVEVO         10.0  2017-11-17T05:00:01.000Z   \n",
      "\n",
      "                                                   tags     views      likes  \\\n",
      "73    edsheeran|\"ed sheeran\"|\"acoustic\"|\"live\"|\"cove...  4.193676  1634124.0   \n",
      "342   edsheeran|\"ed sheeran\"|\"acoustic\"|\"live\"|\"cove...  4.941954  1721383.0   \n",
      "583   edsheeran|\"ed sheeran\"|\"acoustic\"|\"live\"|\"cove...  5.529882  1788960.0   \n",
      "1010  Eminem|\"Walk\"|\"On\"|\"Water\"|\"Aftermath/Shady/In...  3.241239   911883.0   \n",
      "1023  Luis|\"Fonsi\"|\"Demi\"|\"Lovato\"|\"Échame\"|\"La\"|\"Cu...  3.711740  1388751.0   \n",
      "\n",
      "      dislikes  comment_count                                  thumbnail_link  \\\n",
      "73     21082.0        85067.0  https://i.ytimg.com/vi/2Vv-BfVoq4g/default.jpg   \n",
      "342    23137.0        90352.0  https://i.ytimg.com/vi/2Vv-BfVoq4g/default.jpg   \n",
      "583    24548.0        93428.0  https://i.ytimg.com/vi/2Vv-BfVoq4g/default.jpg   \n",
      "1010   53873.0       127481.0  https://i.ytimg.com/vi/n1WpP7iowLc/default.jpg   \n",
      "1023   54751.0        79828.0  https://i.ytimg.com/vi/TyHvyGVs42U/default.jpg   \n",
      "\n",
      "     comments_disabled ratings_disabled video_error_or_removed  \\\n",
      "73               False            False                  False   \n",
      "342              False            False                  False   \n",
      "583              False            False                  False   \n",
      "1010             False            False                  False   \n",
      "1023             False            False                  False   \n",
      "\n",
      "                                            description  \n",
      "73    🎧: https://ad.gt/yt-perfect\\n💰: https://atlant...  \n",
      "342   🎧: https://ad.gt/yt-perfect\\n💰: https://atlant...  \n",
      "583   🎧: https://ad.gt/yt-perfect\\n💰: https://atlant...  \n",
      "1010  Eminem's new track Walk on Water ft. Beyoncé i...  \n",
      "1023  “Échame La Culpa” disponible ya en todas las p...  \n"
     ]
    }
   ],
   "source": [
    "#spot the outliers \n",
    "df['views']=(df.views-df.views.mean())/df.views.std()\n",
    "df=df[df['views']>3]\n",
    "print(df.head())"
   ]
  },
  {
   "cell_type": "code",
   "execution_count": 217,
   "metadata": {},
   "outputs": [
    {
     "data": {
      "text/plain": [
       "2"
      ]
     },
     "execution_count": 217,
     "metadata": {},
     "output_type": "execute_result"
    }
   ],
   "source": [
    "#count number of unique categories\n",
    "df['comments_disabled'].value_counts().count()"
   ]
  },
  {
   "cell_type": "code",
   "execution_count": 218,
   "metadata": {},
   "outputs": [
    {
     "data": {
      "text/plain": [
       "2"
      ]
     },
     "execution_count": 218,
     "metadata": {},
     "output_type": "execute_result"
    }
   ],
   "source": [
    "df['ratings_disabled'].value_counts().count()"
   ]
  },
  {
   "cell_type": "code",
   "execution_count": 219,
   "metadata": {},
   "outputs": [
    {
     "data": {
      "text/plain": [
       "1"
      ]
     },
     "execution_count": 219,
     "metadata": {},
     "output_type": "execute_result"
    }
   ],
   "source": [
    "df['video_error_or_removed'].value_counts().count()"
   ]
  },
  {
   "cell_type": "code",
   "execution_count": 220,
   "metadata": {},
   "outputs": [
    {
     "data": {
      "text/plain": [
       "74"
      ]
     },
     "execution_count": 220,
     "metadata": {},
     "output_type": "execute_result"
    }
   ],
   "source": [
    "df['description'].value_counts().count()"
   ]
  },
  {
   "cell_type": "code",
   "execution_count": 221,
   "metadata": {},
   "outputs": [
    {
     "data": {
      "text/plain": [
       "49"
      ]
     },
     "execution_count": 221,
     "metadata": {},
     "output_type": "execute_result"
    }
   ],
   "source": [
    "df['channel_title'].value_counts().count()"
   ]
  },
  {
   "cell_type": "code",
   "execution_count": 222,
   "metadata": {},
   "outputs": [
    {
     "data": {
      "text/plain": [
       "65"
      ]
     },
     "execution_count": 222,
     "metadata": {},
     "output_type": "execute_result"
    }
   ],
   "source": [
    "df['title'].value_counts().count()"
   ]
  },
  {
   "cell_type": "code",
   "execution_count": 223,
   "metadata": {},
   "outputs": [
    {
     "data": {
      "text/plain": [
       "65"
      ]
     },
     "execution_count": 223,
     "metadata": {},
     "output_type": "execute_result"
    }
   ],
   "source": [
    "df['video_id'].value_counts().count()"
   ]
  },
  {
   "cell_type": "code",
   "execution_count": 224,
   "metadata": {},
   "outputs": [],
   "source": [
    "# Is there any column that we need to adjust its type ?\n",
    "y1=pd.get_dummies(df.comments_disabled,prefix='comments_disabled')\n",
    "y2=pd.get_dummies(df.ratings_disabled,prefix='ratings_disabled')\n",
    "y3=pd.get_dummies(df.video_error_or_removed,prefix='video_error_or_removed')\n",
    "y4=pd.get_dummies(df.comments_disabled,prefix='description')\n",
    "y6=pd.get_dummies(df.video_error_or_removed,prefix='channel_title')\n",
    "y7=pd.get_dummies(df.ratings_disabled,prefix='video_id')\n",
    "y8=pd.get_dummies(df.video_error_or_removed,prefix='title')"
   ]
  },
  {
   "cell_type": "code",
   "execution_count": 225,
   "metadata": {
    "scrolled": true
   },
   "outputs": [],
   "source": [
    "# Get how many tags you have\n",
    "import re\n",
    "tags={}\n",
    "for tag in df[\"tags\"]:\n",
    "    elements=tag.split(\"|\")\n",
    "    for element in elements:\n",
    "        elem=re.search(\"[^\\\"]*\",element).group(0)\n",
    "        if elem in tags.keys():\n",
    "            tags[elem]=tags[elem]+1\n",
    "        elif elem!='':\n",
    "            tags[elem]=1"
   ]
  },
  {
   "cell_type": "code",
   "execution_count": 227,
   "metadata": {},
   "outputs": [
    {
     "name": "stdout",
     "output_type": "stream",
     "text": [
      "{'Childish Gambino': 25, 'BIGHIT': 21, 'marvel': 21, 'edsheeran': 19, 'Ariana': 19, 'Venom': 19, 'calvin harris': 17, 'Sanju Teaser': 17, 'daddy yankee reggaeton': 17, 'Becky G': 16, 'Maluma Marinero': 16, 'selena gomez': 16, 'TWICE What is Love': 14, 'Cardi B': 14, 'Taylor Swift': 13, 'Drake': 13, 'AsapSCIENCE': 13, 'Sanju': 13, 'Let Me': 12, 'The': 12, 'Pixar': 11, 'Maluma Music': 11, 'Welcome to the party': 10, 'Kylie Jenner': 9, 'Luis': 8, 'Rewind': 8, 'Jennifer Lopez El Anillo': 8, 'Nicki': 8, 'BPG/RVG/RCA Records': 7, 'The Weeknd': 7, 'Maroon': 7, 'lizzza': 7, 'jennifer lopez': 7, 'Jurassic World': 6, 'Shawn': 6, 'Liam': 6, 'katy perry': 5, 'Taylor': 5, 'Selena': 5, 'Eminem': 4, '5-Minute Crafts': 4, 'TWICE Heart Shaker': 4, 'Bruno Mars': 4, 'Ram Trucks Commercial': 4, 'dude perfect': 3, 'camila cabello': 3, 'poo bear ft justin bieber jay electronica hard 2 face reality lyric video': 3, ' Hannah Stocking & Kára McCullough': 3, 'Ashes': 3, 'Demi Lovato': 2, 'JYP Entertainment': 2, 'dua lipa': 1, 'Shakira ft. Maluma': 1, 'how ridiculous': 1, 'Abraham Mateo': 1, 'humility': 1}\n"
     ]
    }
   ],
   "source": [
    "# which are the most common tags ?\n",
    "mostCommonTags = dict(sorted(tags.items(), key=lambda item: item[1],reverse=True))\n",
    "print(mostCommonTags)"
   ]
  },
  {
   "cell_type": "code",
   "execution_count": null,
   "metadata": {},
   "outputs": [],
   "source": []
  }
 ],
 "metadata": {
  "kernelspec": {
   "display_name": "Python 3 (ipykernel)",
   "language": "python",
   "name": "python3"
  },
  "language_info": {
   "codemirror_mode": {
    "name": "ipython",
    "version": 3
   },
   "file_extension": ".py",
   "mimetype": "text/x-python",
   "name": "python",
   "nbconvert_exporter": "python",
   "pygments_lexer": "ipython3",
   "version": "3.9.7"
  }
 },
 "nbformat": 4,
 "nbformat_minor": 4
}
